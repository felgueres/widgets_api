{
 "cells": [
  {
   "cell_type": "code",
   "execution_count": 9,
   "metadata": {},
   "outputs": [],
   "source": [
    "import pandas as pd\n",
    "df = pd.read_json('../latency.jsonl', lines=True)"
   ]
  },
  {
   "cell_type": "code",
   "execution_count": 11,
   "metadata": {},
   "outputs": [
    {
     "data": {
      "text/html": [
       "<div>\n",
       "<style scoped>\n",
       "    .dataframe tbody tr th:only-of-type {\n",
       "        vertical-align: middle;\n",
       "    }\n",
       "\n",
       "    .dataframe tbody tr th {\n",
       "        vertical-align: top;\n",
       "    }\n",
       "\n",
       "    .dataframe thead tr th {\n",
       "        text-align: left;\n",
       "    }\n",
       "\n",
       "    .dataframe thead tr:last-of-type th {\n",
       "        text-align: right;\n",
       "    }\n",
       "</style>\n",
       "<table border=\"1\" class=\"dataframe\">\n",
       "  <thead>\n",
       "    <tr>\n",
       "      <th></th>\n",
       "      <th colspan=\"8\" halign=\"left\">elapsed</th>\n",
       "    </tr>\n",
       "    <tr>\n",
       "      <th></th>\n",
       "      <th>count</th>\n",
       "      <th>mean</th>\n",
       "      <th>std</th>\n",
       "      <th>min</th>\n",
       "      <th>25%</th>\n",
       "      <th>50%</th>\n",
       "      <th>75%</th>\n",
       "      <th>max</th>\n",
       "    </tr>\n",
       "    <tr>\n",
       "      <th>task</th>\n",
       "      <th></th>\n",
       "      <th></th>\n",
       "      <th></th>\n",
       "      <th></th>\n",
       "      <th></th>\n",
       "      <th></th>\n",
       "      <th></th>\n",
       "      <th></th>\n",
       "    </tr>\n",
       "  </thead>\n",
       "  <tbody>\n",
       "    <tr>\n",
       "      <th>classifier</th>\n",
       "      <td>19.0</td>\n",
       "      <td>0.514982</td>\n",
       "      <td>0.307455</td>\n",
       "      <td>0.259070</td>\n",
       "      <td>0.312930</td>\n",
       "      <td>0.406906</td>\n",
       "      <td>0.606187</td>\n",
       "      <td>1.594773</td>\n",
       "    </tr>\n",
       "    <tr>\n",
       "      <th>extract_params</th>\n",
       "      <td>18.0</td>\n",
       "      <td>0.407261</td>\n",
       "      <td>0.131549</td>\n",
       "      <td>0.299753</td>\n",
       "      <td>0.318188</td>\n",
       "      <td>0.354351</td>\n",
       "      <td>0.411006</td>\n",
       "      <td>0.700663</td>\n",
       "    </tr>\n",
       "    <tr>\n",
       "      <th>fn</th>\n",
       "      <td>19.0</td>\n",
       "      <td>1.442393</td>\n",
       "      <td>0.572705</td>\n",
       "      <td>0.979244</td>\n",
       "      <td>1.123371</td>\n",
       "      <td>1.254986</td>\n",
       "      <td>1.425426</td>\n",
       "      <td>3.036192</td>\n",
       "    </tr>\n",
       "  </tbody>\n",
       "</table>\n",
       "</div>"
      ],
      "text/plain": [
       "               elapsed                                                    \\\n",
       "                 count      mean       std       min       25%       50%   \n",
       "task                                                                       \n",
       "classifier        19.0  0.514982  0.307455  0.259070  0.312930  0.406906   \n",
       "extract_params    18.0  0.407261  0.131549  0.299753  0.318188  0.354351   \n",
       "fn                19.0  1.442393  0.572705  0.979244  1.123371  1.254986   \n",
       "\n",
       "                                    \n",
       "                     75%       max  \n",
       "task                                \n",
       "classifier      0.606187  1.594773  \n",
       "extract_params  0.411006  0.700663  \n",
       "fn              1.425426  3.036192  "
      ]
     },
     "execution_count": 11,
     "metadata": {},
     "output_type": "execute_result"
    }
   ],
   "source": [
    "df.groupby('task').describe()"
   ]
  },
  {
   "cell_type": "code",
   "execution_count": 16,
   "metadata": {},
   "outputs": [
    {
     "data": {
      "text/plain": [
       "Text(0.5, 1.0, 'Elapsed time per task (s)')"
      ]
     },
     "execution_count": 16,
     "metadata": {},
     "output_type": "execute_result"
    },
    {
     "data": {
      "image/png": "[encoded data removed]",
      "text/plain": [
       "<Figure size 640x480 with 1 Axes>"
      ]
     },
     "metadata": {},
     "output_type": "display_data"
    }
   ],
   "source": [
    "# plot elapsed times per task\n",
    "import seaborn as sns\n",
    "sns.set_theme(style=\"whitegrid\")\n",
    "ax = sns.boxplot(x=\"task\", y=\"elapsed\", data=df)\n",
    "# add seconds to y-axis\n",
    "from matplotlib.ticker import FuncFormatter\n",
    "ax.yaxis.set_major_formatter(FuncFormatter(lambda x, pos: f'{x:.0f}s'))\n",
    "# add title\n",
    "ax.set_title('Elapsed time per task (s)')"
   ]
  },
  {
   "cell_type": "code",
   "execution_count": null,
   "metadata": {},
   "outputs": [],
   "source": []
  }
 ],
 "metadata": {
  "kernelspec": {
   "display_name": "ai",
   "language": "python",
   "name": "python3"
  },
  "language_info": {
   "codemirror_mode": {
    "name": "ipython",
    "version": 3
   },
   "file_extension": ".py",
   "mimetype": "text/x-python",
   "name": "python",
   "nbconvert_exporter": "python",
   "pygments_lexer": "ipython3",
   "version": "3.10.6"
  },
  "orig_nbformat": 4
 },
 "nbformat": 4,
 "nbformat_minor": 2
}
